{
    "metadata": {
        "kernelspec": {
            "name": "SQL",
            "display_name": "SQL",
            "language": "sql"
        },
        "language_info": {
            "name": "sql",
            "version": ""
        }
    },
    "nbformat_minor": 2,
    "nbformat": 4,
    "cells": [
        {
            "cell_type": "code",
            "source": [
                "SELECT * FROM sales.order_details\r\n",
                "WHERE order_id = 105;"
            ],
            "metadata": {
                "azdata_cell_guid": "3bb7ad97-1af8-4b2c-ba52-ed0ad6baf1e7",
                "language": "sql"
            },
            "outputs": [
                {
                    "output_type": "display_data",
                    "data": {
                        "text/html": "(3 rows affected)"
                    },
                    "metadata": {}
                },
                {
                    "output_type": "display_data",
                    "data": {
                        "text/html": "Total execution time: 00:00:00.028"
                    },
                    "metadata": {}
                },
                {
                    "output_type": "execute_result",
                    "metadata": {},
                    "execution_count": 1,
                    "data": {
                        "application/vnd.dataresource+json": {
                            "schema": {
                                "fields": [
                                    {
                                        "name": "order_id"
                                    },
                                    {
                                        "name": "line_id"
                                    },
                                    {
                                        "name": "customer_id"
                                    },
                                    {
                                        "name": "company"
                                    },
                                    {
                                        "name": "order_date"
                                    },
                                    {
                                        "name": "sku"
                                    },
                                    {
                                        "name": "quantity"
                                    },
                                    {
                                        "name": "product_name"
                                    },
                                    {
                                        "name": "size"
                                    },
                                    {
                                        "name": "price"
                                    }
                                ]
                            },
                            "data": [
                                {
                                    "0": "105",
                                    "1": "13",
                                    "2": "DF600",
                                    "3": "Delish Food",
                                    "4": "2020-10-21",
                                    "5": "HOJ128",
                                    "6": "2",
                                    "7": "Bold",
                                    "8": "128",
                                    "9": "27.99"
                                },
                                {
                                    "0": "105",
                                    "1": "14",
                                    "2": "DF600",
                                    "3": "Delish Food",
                                    "4": "2020-10-21",
                                    "5": "KRN128",
                                    "6": "4",
                                    "7": "Koroneiki",
                                    "8": "128",
                                    "9": "26.99"
                                },
                                {
                                    "0": "105",
                                    "1": "15",
                                    "2": "DF600",
                                    "3": "Delish Food",
                                    "4": "2020-10-21",
                                    "5": "LEC008",
                                    "6": "4",
                                    "7": "Leccino",
                                    "8": "8",
                                    "9": "10.99"
                                }
                            ]
                        },
                        "text/html": [
                            "<table>",
                            "<tr><th>order_id</th><th>line_id</th><th>customer_id</th><th>company</th><th>order_date</th><th>sku</th><th>quantity</th><th>product_name</th><th>size</th><th>price</th></tr>",
                            "<tr><td>105</td><td>13</td><td>DF600</td><td>Delish Food</td><td>2020-10-21</td><td>HOJ128</td><td>2</td><td>Bold</td><td>128</td><td>27.99</td></tr>",
                            "<tr><td>105</td><td>14</td><td>DF600</td><td>Delish Food</td><td>2020-10-21</td><td>KRN128</td><td>4</td><td>Koroneiki</td><td>128</td><td>26.99</td></tr>",
                            "<tr><td>105</td><td>15</td><td>DF600</td><td>Delish Food</td><td>2020-10-21</td><td>LEC008</td><td>4</td><td>Leccino</td><td>8</td><td>10.99</td></tr>",
                            "</table>"
                        ]
                    }
                }
            ],
            "execution_count": 1
        }
    ]
}